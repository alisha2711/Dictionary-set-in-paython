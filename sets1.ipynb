{
 "cells": [
  {
   "cell_type": "code",
   "execution_count": 26,
   "id": "7177fe9b",
   "metadata": {},
   "outputs": [
    {
     "name": "stdout",
     "output_type": "stream",
     "text": [
      "<class 'set'>\n",
      "{(91, 4, 6, 70), 1, 5}\n",
      "(91, 4, 6, 70)\n",
      "1\n",
      "5\n",
      "{1, 2, 4, 5, 6, 7}\n",
      "{2, 6}\n",
      "<class 'dict'>\n"
     ]
    }
   ],
   "source": [
    "collection = set()  #for empty set \n",
    "print(type(collection))\n",
    "collection.add(1)\n",
    "collection.add(5)\n",
    "collection.add(1)\n",
    "collection.add((91,4,6,70)) \n",
    "print(collection)  \n",
    "print(collection.pop()) \n",
    "print(collection.pop()) \n",
    "print(collection.pop()) \n",
    "set1={1,2,4, 6}\n",
    "set2 ={5,6,2,7}\n",
    "print(set1.union(set2))   #union as like maths \n",
    "print(set1.intersection(set2))\n",
    "#collection.remove(6)-> error occur because yeh exist nahi karta \n",
    "sets={}\n",
    "print(type(sets)) # for empty disctionary"
   ]
  }
 ],
 "metadata": {
  "kernelspec": {
   "display_name": "Python 3",
   "language": "python",
   "name": "python3"
  },
  "language_info": {
   "codemirror_mode": {
    "name": "ipython",
    "version": 3
   },
   "file_extension": ".py",
   "mimetype": "text/x-python",
   "name": "python",
   "nbconvert_exporter": "python",
   "pygments_lexer": "ipython3",
   "version": "3.13.6"
  }
 },
 "nbformat": 4,
 "nbformat_minor": 5
}
