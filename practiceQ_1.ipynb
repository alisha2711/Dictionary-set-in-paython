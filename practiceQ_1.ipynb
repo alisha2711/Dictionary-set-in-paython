{
 "cells": [
  {
   "cell_type": "code",
   "execution_count": 23,
   "id": "4b852c89",
   "metadata": {},
   "outputs": [
    {
     "name": "stdout",
     "output_type": "stream",
     "text": [
      "{'table': {'table1': 'a piece of furniture', 'table2': 'list of Facts and figures'}, 'cat': 'a small Animal', 'tabble': {'a piece of furnitur ', 'a list of facts and figure'}}\n",
      "{'python', 'java', 'c', 'c++', 'javascrpt'}\n",
      "5\n",
      "{'phy': '77', 'chem': '99', 'Maths': '88'}\n",
      "{9, '9.0'}\n",
      "{('int', 9), ('float', 9.0)}\n"
     ]
    }
   ],
   "source": [
    "#store words and maning n python dictionary\n",
    "dict={\n",
    "    \"table\" : {\n",
    "        \"table1\" :\"a piece of furniture\",\n",
    "        \"table2\" :\"list of Facts and figures\",\n",
    "\n",
    "},\n",
    "    \"cat\": \"a small Animal\",\n",
    "    \"tabble\" : {\"a piece of furnitur \", \"a list of facts and figure\"}\n",
    "}\n",
    "print(dict)\n",
    "\n",
    "#   assume one classroom is require for 1 subject then how many classroom need by all subject\n",
    "#paython,java , c++, paython,javascript, java, paython ,jva , c++ , c#\n",
    "set1 = {\"python\", \"java\", \"c++\" , \"python\", \"javascrpt\"}\n",
    "set2 ={\"python\", \"java\",\"java\", \"c++\", \"c\"}\n",
    "union =(set1 .union(set2))\n",
    "print (union)\n",
    "print(len(union))\n",
    "\n",
    "# input marks of 3 subject from user and store them in dictionary . start empty dictionaly and then add one by one \n",
    "Marks= {}\n",
    "dict1 =input(\"enter the marks of subject 1:\")\n",
    "Marks.update({\"phy\": dict1})\n",
    "dict2 =input(\"enter the marks of subject 2:\")\n",
    "Marks.update({\"chem\": dict2})\n",
    "dict3 =input(\"enter the marks of subject 3:\")\n",
    "Marks.update({\"Maths\": dict3})\n",
    "\n",
    "print(Marks)\n",
    "\n",
    "# figure out a way to store 9 and 9.o\n",
    " \n",
    "store ={9,\"9.0\"}\n",
    "print(store)\n",
    "\n",
    "values={\n",
    "    (\"float\", 9.0),\n",
    "    (\"int\" ,9)\n",
    "}\n",
    "print(values)\n",
    "\n",
    "\n",
    "\n",
    "\n",
    "\n",
    "\n"
   ]
  }
 ],
 "metadata": {
  "kernelspec": {
   "display_name": "Python 3",
   "language": "python",
   "name": "python3"
  },
  "language_info": {
   "codemirror_mode": {
    "name": "ipython",
    "version": 3
   },
   "file_extension": ".py",
   "mimetype": "text/x-python",
   "name": "python",
   "nbconvert_exporter": "python",
   "pygments_lexer": "ipython3",
   "version": "3.13.6"
  }
 },
 "nbformat": 4,
 "nbformat_minor": 5
}
