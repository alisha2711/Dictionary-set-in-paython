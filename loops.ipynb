{
 "cells": [
  {
   "cell_type": "code",
   "execution_count": 6,
   "id": "0bcada91",
   "metadata": {},
   "outputs": [
    {
     "name": "stdout",
     "output_type": "stream",
     "text": [
      "Hello World 1\n",
      "2\n",
      "Hello World 2\n",
      "3\n",
      "1\n",
      "0\n",
      "Loop Ended\n",
      "7\n",
      "14\n",
      "21\n",
      "28\n",
      "35\n",
      "42\n",
      "49\n",
      "56\n",
      "63\n",
      "70\n",
      "77\n",
      "1\n",
      "4\n",
      "9\n",
      "16\n",
      "25\n",
      "36\n",
      "49\n",
      "64\n",
      "81\n",
      "100\n",
      "zara\n",
      "fatima \n",
      "mirah\n"
     ]
    }
   ],
   "source": [
    "#loop repeat instruction-> tab tak repeat karna jab tak condition false na ho \n",
    "i =1   #i= Iterator and process of repeatitedly running loop  called Itration \n",
    "while i<= 2 :\n",
    "   print(\"Hello World\", i)\n",
    "   i+=1\n",
    "   print(i)\n",
    "\n",
    "j = 2\n",
    "while j>=1 :\n",
    "   j-=1\n",
    "   print(j)\n",
    "print(\"Loop Ended\")\n",
    "\n",
    "o = int((input(\"Enter any number:\")))\n",
    "k=0\n",
    "while k<=10 :\n",
    "   k +=1\n",
    "   print(o*k)\n",
    "\n",
    "#print elements of the following list using loop\n",
    "#{1,4,9,16,25,36,49,64,81 ,100}\n",
    "num = [1,4,9,16,25,36,49,64,81 ,100]\n",
    "\n",
    "idx = 0\n",
    "while idx < len(num):\n",
    "\n",
    "   print(num[idx])\n",
    "   idx += 1\n",
    "people =[\"zara\",\"fatima \", \"mirah\"]\n",
    "idx=0\n",
    "while idx < len(people):\n",
    "\n",
    "   print(people[idx])\n",
    "   idx +=1\n",
    "   \n",
    "\n",
    "\n",
    "\n",
    "\n",
    "   "
   ]
  }
 ],
 "metadata": {
  "kernelspec": {
   "display_name": "Python 3",
   "language": "python",
   "name": "python3"
  },
  "language_info": {
   "codemirror_mode": {
    "name": "ipython",
    "version": 3
   },
   "file_extension": ".py",
   "mimetype": "text/x-python",
   "name": "python",
   "nbconvert_exporter": "python",
   "pygments_lexer": "ipython3",
   "version": "3.13.6"
  }
 },
 "nbformat": 4,
 "nbformat_minor": 5
}
