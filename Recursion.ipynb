{
 "cells": [
  {
   "cell_type": "code",
   "execution_count": null,
   "id": "5579d33c",
   "metadata": {},
   "outputs": [
    {
     "name": "stdout",
     "output_type": "stream",
     "text": [
      "6\n",
      "5\n",
      "4\n",
      "3\n",
      "2\n",
      "1\n"
     ]
    }
   ],
   "source": [
    "#Recurrsion:function calls itself repeatedly (interelated to loop)\n",
    "#jo sary kam loop sy kiya jaty ha wo recurrsion sy bhi kiya jaty ha \n",
    "\n",
    "def fun(n):\n",
    "    if (n==0):# this is called \"base case\"as like loop stopping condition \n",
    "        return\n",
    "    print (n)\n",
    "    fun(n-1)\n",
    "fun(6)"
   ]
  },
  {
   "cell_type": "code",
   "execution_count": 56,
   "id": "1036a189",
   "metadata": {},
   "outputs": [
    {
     "name": "stdout",
     "output_type": "stream",
     "text": [
      "[3, 5, 7, 8, 99]\n"
     ]
    },
    {
     "ename": "TypeError",
     "evalue": "'builtin_function_or_method' object is not subscriptable",
     "output_type": "error",
     "traceback": [
      "\u001b[31m---------------------------------------------------------------------------\u001b[39m",
      "\u001b[31mTypeError\u001b[39m                                 Traceback (most recent call last)",
      "\u001b[36mCell\u001b[39m\u001b[36m \u001b[39m\u001b[32mIn[56]\u001b[39m\u001b[32m, line 17\u001b[39m\n\u001b[32m     15\u001b[39m       \u001b[38;5;28;01mreturn\u001b[39;00m  \u001b[38;5;28mlist\u001b[39m\n\u001b[32m     16\u001b[39m \u001b[38;5;28mprint\u001b[39m (data)\n\u001b[32m---> \u001b[39m\u001b[32m17\u001b[39m \u001b[43mlst\u001b[49m\u001b[43m(\u001b[49m\u001b[43mdata\u001b[49m\u001b[43m)\u001b[49m\n",
      "\u001b[36mCell\u001b[39m\u001b[36m \u001b[39m\u001b[32mIn[56]\u001b[39m\u001b[32m, line 12\u001b[39m, in \u001b[36mlst\u001b[39m\u001b[34m(a)\u001b[39m\n\u001b[32m     11\u001b[39m \u001b[38;5;28;01mdef\u001b[39;00m\u001b[38;5;250m \u001b[39m\u001b[34mlst\u001b[39m(a):\n\u001b[32m---> \u001b[39m\u001b[32m12\u001b[39m    \u001b[38;5;28;01mif\u001b[39;00m(a==\u001b[38;5;28;43mlen\u001b[39;49m\u001b[43m[\u001b[49m\u001b[43mlst\u001b[49m\u001b[43m]\u001b[49m):\n\u001b[32m     13\u001b[39m       \u001b[38;5;28;01mreturn\u001b[39;00m \u001b[32m0\u001b[39m\n\u001b[32m     14\u001b[39m    \u001b[38;5;28;01melse\u001b[39;00m:\n",
      "\u001b[31mTypeError\u001b[39m: 'builtin_function_or_method' object is not subscriptable"
     ]
    }
   ],
   "source": [
    "#write recursive funaction to calculate the sum of first n natural numbers\n",
    "def easy(n):\n",
    "    if(n==0):\n",
    "        return 0\n",
    "        print(n)\n",
    "    else:\n",
    "     return  easy(n-1) + n\n",
    "easy(7)\n",
    "#print all elemnet in list\n",
    "data=[3,5,7,8,99]\n",
    "def lst(a):\n",
    "   if(a==len[lst]):\n",
    "      return 0\n",
    "   else:\n",
    "      return  list\n",
    "print (data)\n",
    "lst(data)\n"
   ]
  },
  {
   "cell_type": "code",
   "execution_count": 12,
   "id": "496a07c8",
   "metadata": {},
   "outputs": [
    {
     "name": "stdout",
     "output_type": "stream",
     "text": [
      "120\n"
     ]
    }
   ],
   "source": [
    "# factorial !: factorialn= n!= (n-1)!*n -> (n-1)!= (n-2)!*n -> (n-2)!= (n-3)!*n.........\n",
    "def fact(n):\n",
    "    if(n==1 or n==0):\n",
    "        return 1\n",
    "    return fact(n-1) * n\n",
    "print(fact(5))"
   ]
  }
 ],
 "metadata": {
  "kernelspec": {
   "display_name": "Python 3",
   "language": "python",
   "name": "python3"
  },
  "language_info": {
   "codemirror_mode": {
    "name": "ipython",
    "version": 3
   },
   "file_extension": ".py",
   "mimetype": "text/x-python",
   "name": "python",
   "nbconvert_exporter": "python",
   "pygments_lexer": "ipython3",
   "version": "3.13.6"
  }
 },
 "nbformat": 4,
 "nbformat_minor": 5
}
