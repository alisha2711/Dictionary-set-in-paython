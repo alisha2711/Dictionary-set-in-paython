{
 "cells": [
  {
   "cell_type": "code",
   "execution_count": null,
   "id": "5d88cf6d",
   "metadata": {},
   "outputs": [
    {
     "name": "stdout",
     "output_type": "stream",
     "text": [
      "Girl\n",
      "{'name': 'Girl', 'subject': {'phy': 99, 'chem': 89, 'maths': 77}, 'age': 77, 'topics': ('dic', 'set'), 'marks': [44, 77, 89.7], 'surname': 'shakeera'}\n",
      "6\n",
      "dict_keys(['name', 'subject', 'age', 'topics', 'marks', 'surname'])\n",
      "{'phy': 99, 'chem': 89, 'maths': 77}\n",
      "Girl\n",
      "dict_values(['Girl', {'phy': 99, 'chem': 89, 'maths': 77}, 77, ('dic', 'set'), [44, 77, 89.7], 'shakeera'])\n",
      "dict_items([('name', 'Girl'), ('subject', {'phy': 99, 'chem': 89, 'maths': 77}), ('age', 77), ('topics', ('dic', 'set')), ('marks', [44, 77, 89.7]), ('surname', 'shakeera')])\n",
      "<class 'dict'>\n",
      "Girl\n",
      "None\n",
      "{'name': 'Girl', 'subject': {'phy': 99, 'chem': 89, 'maths': 77}, 'age': 77, 'topics': ('dic', 'set'), 'marks': [44, 77, 89.7], 'surname': 'shakeera', 'city': 'lahore'}\n"
     ]
    }
   ],
   "source": [
    "#dictionary and sets are data structure/built-in data type and are use to store values \n",
    "# word->key and meaning -> value    key:value pair\n",
    "# unordered,mutable and dont alllow dublicate key\n",
    "dict ={\n",
    "    \"name\" : \"Aisha\",\n",
    "    \"subject\" : {      #nested dictionary\n",
    "        \"phy\" : 99,  \n",
    "        \"chem\": 89,\n",
    "        \"maths\" : 77\n",
    "    },\n",
    "    \"age\" :77,\n",
    "    \"topics\"   :(\"dic\" ,\"set\"),\n",
    "    \"marks\": [44,77,89.7]\n",
    "    }\n",
    "dict[\"name\"] =\"Girl\"  #dictionary in python are mutable (can chaange)\n",
    "print(dict[\"name\"])\n",
    "dict[\"surname\"] = \"shakeera\"\n",
    "print(dict)\n",
    "print(len(dict))\n",
    "print(dict.keys())\n",
    "print(dict[\"subject\"])\n",
    "dict[\"name\"] =\"Girl\"\n",
    "print(dict[\"name\"])\n",
    "print(dict.values())\n",
    "print(dict.items())\n",
    "print(type(dict))\n",
    "print(dict.get(\"name\"))\n",
    "print(dict.get(\"book\")) # yeh \"none\" ay ga agar koi key add na ho \n",
    "#print(dict(\"book\"))   is ma error ata and correct code bhi execute nahi hota is liye .get use karty ha \n",
    "dict.update({    #add new key \n",
    "    \"city\" : \"lahore\"\n",
    "})\n",
    "print(dict)\n"
   ]
  }
 ],
 "metadata": {
  "kernelspec": {
   "display_name": "Python 3",
   "language": "python",
   "name": "python3"
  },
  "language_info": {
   "codemirror_mode": {
    "name": "ipython",
    "version": 3
   },
   "file_extension": ".py",
   "mimetype": "text/x-python",
   "name": "python",
   "nbconvert_exporter": "python",
   "pygments_lexer": "ipython3",
   "version": "3.13.6"
  }
 },
 "nbformat": 4,
 "nbformat_minor": 5
}
