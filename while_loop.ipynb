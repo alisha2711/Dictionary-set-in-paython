{
 "cells": [
  {
   "cell_type": "code",
   "execution_count": 12,
   "id": "766c7b2a",
   "metadata": {},
   "outputs": [
    {
     "name": "stdout",
     "output_type": "stream",
     "text": [
      "found at idx: 7\n"
     ]
    }
   ],
   "source": [
    "#found value of any number from the tuple \n",
    "num1 = (1,4,9,16,25,36,49,64,81 ,100)\n",
    "x= 64\n",
    "n= 0\n",
    "while n < len(num1):\n",
    "   if(num1[n] ==x):\n",
    "       print(\"found at idx:\" , n)\n",
    "   n +=1"
   ]
  }
 ],
 "metadata": {
  "kernelspec": {
   "display_name": "Python 3",
   "language": "python",
   "name": "python3"
  },
  "language_info": {
   "codemirror_mode": {
    "name": "ipython",
    "version": 3
   },
   "file_extension": ".py",
   "mimetype": "text/x-python",
   "name": "python",
   "nbconvert_exporter": "python",
   "pygments_lexer": "ipython3",
   "version": "3.13.6"
  }
 },
 "nbformat": 4,
 "nbformat_minor": 5
}
